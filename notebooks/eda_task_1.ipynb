{
 "cells": [
  {
   "cell_type": "code",
   "execution_count": null,
   "metadata": {},
   "outputs": [],
   "source": [
    "# Import necessary libraries\n",
    "import pandas as pd\n",
    "from scripts.data_processing import clean_data, feature_engineering\n",
    "from scripts.visualizations import plot_sales_distribution, plot_promo_effect, plot_store_type_sales, plot_competition_effect\n"
   ]
  },
  {
   "cell_type": "code",
   "execution_count": null,
   "metadata": {},
   "outputs": [],
   "source": [
    "# Load datasets\n",
    "train = pd.read_csv('../data/rossmann-store-sales/train.csv')\n",
    "test = pd.read_csv('../data/rossmann-store-sales/test.csv')\n",
    "store = pd.read_csv('../data/rossmann-store-sales/store.csv')\n",
    "\n"
   ]
  },
  {
   "cell_type": "code",
   "execution_count": null,
   "metadata": {},
   "outputs": [],
   "source": [
    "# Initial Data Overview\n",
    "print(\"Training data overview:\")\n",
    "print(train.head())  # Replaced 'display' with 'print' to work in Jupyter or script environments\n",
    "print(\"\\nStore data overview:\")\n",
    "print(store.head())  # Same here for printing\n",
    "\n"
   ]
  },
  {
   "cell_type": "code",
   "execution_count": null,
   "metadata": {},
   "outputs": [],
   "source": [
    "\n",
    "# Check for missing values before cleaning\n",
    "print(\"\\nMissing values in training data:\")\n",
    "print(train.isnull().sum())\n",
    "print(\"\\nMissing values in store data:\")\n",
    "print(store.isnull().sum())\n",
    "\n"
   ]
  },
  {
   "cell_type": "code",
   "execution_count": null,
   "metadata": {},
   "outputs": [],
   "source": [
    "# Clean the data (Missing values, outliers)\n",
    "train_cleaned = clean_data(train, store)\n",
    "\n",
    "# Verify cleaning steps\n",
    "print(\"\\nCleaned training data (head):\")\n",
    "print(train_cleaned.head())\n",
    "print(\"\\nRemaining missing values after cleaning:\")\n",
    "print(train_cleaned.isnull().sum())\n",
    "\n"
   ]
  },
  {
   "cell_type": "code",
   "execution_count": null,
   "metadata": {},
   "outputs": [],
   "source": [
    "# Feature Engineering (Promo, Holidays, etc.)\n",
    "train_fe = feature_engineering(train_cleaned)\n",
    "\n",
    "# Verify feature engineering steps\n",
    "print(\"\\nTraining data after feature engineering (head):\")\n",
    "print(train_fe.head())\n",
    "\n"
   ]
  },
  {
   "cell_type": "code",
   "execution_count": null,
   "metadata": {},
   "outputs": [],
   "source": [
    "# Visualization: Sales distribution\n",
    "print(\"\\nPlotting sales distribution...\")\n",
    "plot_sales_distribution(train_fe)\n",
    "\n",
    "# Visualization: Promo effect on sales\n",
    "print(\"\\nPlotting promo effect on sales...\")\n",
    "plot_promo_effect(train_fe)\n",
    "\n",
    "# Visualization: Store Type and Sales\n",
    "print(\"\\nPlotting store type and sales distribution...\")\n",
    "plot_store_type_sales(train_fe)\n",
    "\n",
    "# Visualization: Competition Effect on Sales\n",
    "print(\"\\nPlotting competition effect on sales...\")\n",
    "plot_competition_effect(train_fe)"
   ]
  }
 ],
 "metadata": {
  "kernelspec": {
   "display_name": "venv",
   "language": "python",
   "name": "python3"
  },
  "language_info": {
   "codemirror_mode": {
    "name": "ipython",
    "version": 3
   },
   "file_extension": ".py",
   "mimetype": "text/x-python",
   "name": "python",
   "nbconvert_exporter": "python",
   "pygments_lexer": "ipython3",
   "version": "3.12.6"
  }
 },
 "nbformat": 4,
 "nbformat_minor": 2
}
